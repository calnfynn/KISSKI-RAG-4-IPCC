{
 "cells": [
  {
   "cell_type": "markdown",
   "id": "eda795eb",
   "metadata": {},
   "source": [
    "- create .venv\n",
    "- run `pip install -r requirements.txt`\n",
    "- get API key from https://kisski.gwdg.de/leistungen/2-02-llm-service/\n",
    "- create `.env` file with:\n",
    "  > OPENAI_API_KEY = \"YOUR-API-KEY\"  \n",
    "  > KISSKI_URL = \"https://chat-ai.academiccloud.de/v1\""
   ]
  },
  {
   "cell_type": "code",
   "execution_count": 17,
   "id": "a4743fc8",
   "metadata": {},
   "outputs": [
    {
     "name": "stdout",
     "output_type": "stream",
     "text": [
      "Loaded 1 documents.\n",
      "Generated 326 chunks.\n"
     ]
    }
   ],
   "source": [
    "# 1. Load HTML File/s\n",
    "from llama_index.core import SimpleDirectoryReader\n",
    "\n",
    "documents = SimpleDirectoryReader(input_dir=\"html\").load_data()\n",
    "print(f\"Loaded {len(documents)} documents.\")\n",
    "\n",
    "# 2. Chunk with SentenceSplitter\n",
    "from llama_index.core.node_parser import SentenceSplitter\n",
    "\n",
    "splitter = SentenceSplitter(chunk_size=1024, chunk_overlap=200) # 1 token = 4 characters\n",
    "nodes = splitter.get_nodes_from_documents(documents)\n",
    "print(f\"Generated {len(nodes)} chunks.\") \n",
    "\n",
    "\n",
    "# 3. Embed Chunks with HuggingFace\n",
    "from llama_index.embeddings.huggingface import HuggingFaceEmbedding\n",
    "\n",
    "embed_model = HuggingFaceEmbedding(model_name=\"sentence-transformers/all-MiniLM-L6-v2\")\n"
   ]
  },
  {
   "cell_type": "code",
   "execution_count": 18,
   "id": "46b32532",
   "metadata": {},
   "outputs": [
    {
     "name": "stdout",
     "output_type": "stream",
     "text": [
      "Index stored in ./faiss_index\n"
     ]
    }
   ],
   "source": [
    "# 4. Create Index\n",
    "import faiss\n",
    "from llama_index.vector_stores.faiss import FaissVectorStore\n",
    "from llama_index.core import VectorStoreIndex, StorageContext\n",
    "\n",
    "faiss_index = faiss.IndexFlatL2(384)\n",
    "vector_store = FaissVectorStore(faiss_index=faiss_index)\n",
    "\n",
    "storage_context = StorageContext.from_defaults(vector_store=vector_store)\n",
    "\n",
    "index = VectorStoreIndex(\n",
    "    nodes,\n",
    "    embed_model=embed_model,\n",
    "    storage_context=storage_context,\n",
    ")\n",
    "\n",
    "# Persist index to disk\n",
    "index.storage_context.persist(persist_dir=\"./faiss_index\")\n",
    "print(\"Index stored in ./faiss_index\")"
   ]
  },
  {
   "cell_type": "code",
   "execution_count": 19,
   "id": "e44a03a6",
   "metadata": {},
   "outputs": [],
   "source": [
    "# 5. Define LLM\n",
    "\n",
    "from openai import OpenAI\n",
    "import os\n",
    "from dotenv import load_dotenv\n",
    "\n",
    "load_dotenv()\n",
    "\n",
    "api_key = os.getenv(\"OPENAI_API_KEY\")\n",
    "base_url = os.getenv(\"KISSKI_URL\")\n",
    "\n",
    "if not api_key or not base_url:\n",
    "    raise ValueError(\"Missing API key or URL.\")\n",
    "\n",
    "client = OpenAI(\n",
    "    api_key=api_key,\n",
    "    base_url=base_url\n",
    ")\n",
    "\n",
    "def ask_openai_llm(prompt: str) -> str:\n",
    "    response = client.chat.completions.create(\n",
    "        model=\"meta-llama-3.1-8b-instruct\",\n",
    "        messages=[\n",
    "            {\"role\": \"system\", \"content\": \"You are a helpful assistant.\"},\n",
    "            {\"role\": \"user\", \"content\": prompt}\n",
    "        ]\n",
    "    )\n",
    "    return response.choices[0].message.content\n"
   ]
  },
  {
   "cell_type": "code",
   "execution_count": 20,
   "id": "967468de",
   "metadata": {},
   "outputs": [
    {
     "name": "stdout",
     "output_type": "stream",
     "text": [
      "\n",
      "Q:\n"
     ]
    },
    {
     "data": {
      "text/markdown": [
       "How is this change impacting Native peoples?"
      ],
      "text/plain": [
       "<IPython.core.display.Markdown object>"
      ]
     },
     "metadata": {},
     "output_type": "display_data"
    },
    {
     "name": "stdout",
     "output_type": "stream",
     "text": [
      "\n",
      "A:\n"
     ]
    },
    {
     "data": {
      "text/markdown": [
       "Unfortunately, the provided text does not specifically address the impact of climate change on Native peoples. The text primarily focuses on the Pacific Islands, including Samoa, Dominica, and Kiribati, and discusses the role of culture, social capital, and traditional knowledge in adaptation efforts.\n",
       "\n",
       "However, it's worth noting that the text mentions that \"culture is often overlooked in adaptation policies and plans\" (referring to the National Communications of 16 Small Island Developing States). This suggests that the experiences and perspectives of indigenous peoples may be marginalized or ignored in climate change adaptation efforts.\n",
       "\n",
       "If you're looking for information on the impact of climate change on Native peoples or indigenous communities, I'd be happy to try and provide more general information or point you in the direction of additional resources."
      ],
      "text/plain": [
       "<IPython.core.display.Markdown object>"
      ]
     },
     "metadata": {},
     "output_type": "display_data"
    },
    {
     "name": "stdout",
     "output_type": "stream",
     "text": [
      "___\n",
      "\n",
      "Session ended.\n"
     ]
    }
   ],
   "source": [
    "# 6. Ask a Question\n",
    "import textwrap\n",
    "from IPython.display import Markdown, display\n",
    "\n",
    "while True:\n",
    "    query = input(\"Enter your question (or type 'q'): \").strip()\n",
    "    if query.lower() == 'q':\n",
    "        print(\"Session ended.\")\n",
    "        break\n",
    "\n",
    "    nodes = index.as_retriever().retrieve(query)\n",
    "    context = \"\\n---\\n\".join([n.get_content() for n in nodes])\n",
    "    full_prompt = f\"\"\"You are a helpful assistant. Use the following context to answer the question.\n",
    "\n",
    "Context:\n",
    "{context}\n",
    "\n",
    "Question:\n",
    "{query}\"\"\"\n",
    "\n",
    "    answer = ask_openai_llm(full_prompt)\n",
    "    print(f\"\\nQ:\")\n",
    "    display(Markdown(textwrap.dedent(query)))\n",
    "    print(\"\\nA:\")\n",
    "    display(Markdown(textwrap.dedent(answer)))\n",
    "    print(\"___\\n\")"
   ]
  },
  {
   "cell_type": "code",
   "execution_count": 26,
   "id": "c6215ec3",
   "metadata": {},
   "outputs": [
    {
     "name": "stdout",
     "output_type": "stream",
     "text": [
      "\n",
      "--- Chunk 1 ---\n",
      "\n",
      "'The concept of <span class=\"condensed_italic\" lang>Vai Nui</span> as the interconnectedness of Pacific Islanders continues to support the collective agency to plan and undertake adaptation efforts in the region (<a class=\"reference-link\" href=\"#Hayward--2019\">Hayward et al., 2019</a>). In Samoa, the principles of <span class=\"condensed_italic\" lang>Fa‘asamoa</span> (the Samoan way of life) impacts on how decisions are made, including the role of the <span class=\"condensed_italic\" lang>aiga</span> (extended family) that is a web of local, national and transnational kinship networks (<a class=\"reference-link\" href=\"#Parsons--2018\">Parsons et al., 2018</a>). Traditional village council structures and land stewardship enable an expanded range of coastal adaptation options in Samoa, including potential relocation, but at the same time may limit participation of all social groups in adaptation decision-making (<a class=\"reference-link\" href=\"#Crichton--2020\">Crichton et al., 2020</a>). In Dominica, in the aftermath of Hurricane Maria (2017), social capital in the form of transboundary nearby island networks enabled some communities to recover faster from the disaster including access to more livelihood opportunities and assets (<a class=\"reference-link\" href=\"#Turner--2020\">Turner et al., 2020</a>).</p><p class=\"Body_Body-justify\" lang=\"en-GB\" id=\"15.6.5_p2\">Yet, culture is often overlooked in adaptation policies and plans. For example, in the National Communications of 16 SIDS, only one country (Cook Islands) reported adaptation actions that addressed social issues, culture and heritage (<a class=\"reference-link\" href=\"#Robinson--2018b\">Robinson, 2018b</a>). Externally driven adaptation efforts in rural small island communities that exclude community priorities, ignore or undervalue IKLK, and are based on secular Western/global worldviews (<a class=\"reference-link\" href=\"#Donner--2014\">Donner and Webber, 2014</a>; <a class=\"reference-link\" href=\"#Prance--2015\">Prance, 2015</a>; <a class=\"reference-link\" href=\"#McNamara--2016\">McNamara et al., 2016</a>; <a class=\"reference-link\" href=\"#Nunn--2017b\">Nunn et al., 2017b</a>; <a class=\"reference-link\" href=\"#Schwebel--2017\">Schwebel, 2017</a>; <a class=\"reference-link\" href=\"#Mallin--2018\">Mallin, 2018</a>; <a class=\"reference-link\" href=\"#Nunn--2019\">Nunn and McNamara, 2019</a>; <a class=\"reference-link\" href=\"#Piggott-McKellar--2019b\">Piggott-McKellar et al., 2019b</a>) are often less successful (<span class=\"condensed_italic\" lang>high agreement, medium evidence</span>). The World Bank Kiribati Adaptation Program (KAP), for example, builds mainly on Western knowledge and science despite consultations with the Kiribati communities (<a class=\"reference-link\" href=\"#Prance--2015\">Prance, 2015</a>).'\n",
      "\n",
      "--- Chunk 2 ---\n",
      "\n",
      "'Such alternative livelihood strategies parallel those undertaken by Pacific women working on various local-level climate change adaptation and environmental projects throughout small island nations of the Pacific. Women report testing and using adaptive strategies informed by IKLK, but which are being modified to suit the changing environmental conditions they are encountering and those projected in the future. This includes harvesting rainwater during droughts, planting native plants along coastlines to prevent erosion and flooding, developing plant nurseries, experimenting with growing salt-tolerant (taro) crops, and relocating crop cultivation inland (<a class=\"reference-link\" href=\"#McLeod--2018\">McLeod et al., 2018</a>).</p><p class=\"Body_Body-justify\" lang=\"en-GB\" id=\"15.5.6_p4\">The tourism sector is increasingly a major source of cash-based livelihoods across small islands. Despite the high vulnerability and sensitivity of island tourism to climate change at a national scale (<a class=\"reference-link\" href=\"#Scott--2019\">Scott et al., 2019</a>), there is evidence from the South Pacific that local tourism operators’ adaptive capacity is high due to sociocultural factors. In Samoa, adaptive capacity consists of accommodation providers’ social networks, resources, past experiences and understanding of environmental conditions, and remittances as a form of informal insurance (<a class=\"reference-link\" href=\"#Parsons--2017\">Parsons et al., 2017</a>). The adaptive capacity of Tongan tour operators is strengthened by high awareness of climate change, strong social networks and remittances as well as perceived high resilience against climate change (<a class=\"reference-link\" href=\"#van%20der%20Veeken--2016\">van der Veeken et al., 2016</a>).</p><p class=\"Body_Body-justify\" lang=\"en-GB\" id=\"15.5.6_p5\">Evidence from Vanuatu shows that climate risk to tourism destinations is influenced by multiple, interconnected economic, sociocultural, political and environmental factors suggesting that holistic approaches are needed to reduce risk and avoid negative knock-on effects (<a class=\"reference-link\" href=\"#Loehr--2019\">Loehr, 2019</a>). Tourism can strengthen mechanisms that reduce vulnerability and increase adaptive capacity of the wider destination, such as providing adaptation finance, investing in education and capacity building, and working with nature (<a class=\"reference-link\" href=\"#Loehr--2019\">Loehr, 2019</a>). Examples include numerous EBA initiatives in the Caribbean including marine-protected areas in St. Lucia and Jamaica (<a class=\"reference-link\" href=\"#Mycoo--2018a\">Mycoo, 2018a</a>). In Vanuatu, tourism businesses are engaged in establishing marine-protected areas to address multiple risks from climate change, population growth and development (<a class=\"reference-link\" href=\"#Loehr--2020\">Loehr et al., 2020</a>). In the Seychelles, coral restoration programmes and mangrove reforestation are promoted through public–private partnerships, generating new opportunities for wetland-tourism livelihoods (<a class=\"reference-link\" href=\"#Khan--2015\">Khan and Amelie, 2015</a>).</p><p class=\"Body_Body-justify\" lang=\"en-GB\" id=\"15.5.6_p6\">The willingness of tourism businesses to finance adaptation measures varies. Islands have developed building codes which consider impacts from SLR but these are often not enforced (<a class=\"reference-link\" href=\"#Hess--2017\">Hess and Kelman, 2017</a>). In cases where tourist resorts have been part of climate adaptation projects, such as funding for hard coastal protection infrastructure, the resort owners find that these diminish the aesthetics of the beach destination (<a class=\"reference-link\" href=\"#Crichton--2018\">Crichton and Esteban, 2018</a>). Adaptation taxes and levies imposed on tourism can provide funding (<a class=\"reference-link\" href=\"#Mycoo--2018a\">Mycoo, 2018a</a>) as The Environmental Protection and Tourism Improvement Fund Act, 2017 of British Virgin Islands shows (Smith, 2017).'\n"
     ]
    }
   ],
   "source": [
    "for i, node in enumerate(nodes[:5]):\n",
    "    print(f\"\\n--- Chunk {i+1} ---\\n\")\n",
    "    print(repr(node.get_content()))\n"
   ]
  }
 ],
 "metadata": {
  "kernelspec": {
   "display_name": ".venv",
   "language": "python",
   "name": "python3"
  },
  "language_info": {
   "codemirror_mode": {
    "name": "ipython",
    "version": 3
   },
   "file_extension": ".py",
   "mimetype": "text/x-python",
   "name": "python",
   "nbconvert_exporter": "python",
   "pygments_lexer": "ipython3",
   "version": "3.11.9"
  }
 },
 "nbformat": 4,
 "nbformat_minor": 5
}
